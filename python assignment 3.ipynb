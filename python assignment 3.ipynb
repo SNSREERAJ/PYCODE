{
 "cells": [
  {
   "cell_type": "code",
   "execution_count": 1,
   "id": "30e114f6",
   "metadata": {},
   "outputs": [
    {
     "name": "stdout",
     "output_type": "stream",
     "text": [
      "Cumulative sum of list: 28\n",
      "Cumulative sum of tuple: 35\n",
      "Concatanated string of dictionary keys: Sreeraj Shreyas Ayansh\n",
      "Cumulative sum of list and User Input Value: 38\n",
      "Cumulative sum of tuple and User Input Value: 60\n",
      "Cumulative sum of dictionary and User Input Value: 800\n",
      "Concatanated string of dictionary keys and User Input Value: Parvathy Sreeraj Shreyas Ayansh\n",
      "Concatanated string of dictionary keys and values: ('Sreeraj', 100, 'Shreyas', 200, 'Ayansh', 300)\n"
     ]
    }
   ],
   "source": [
    "# sum_concat() for addition of elements if integer/float and concatenation  if string\n",
    "\n",
    "def sum_concat(element1,element2) :\n",
    "    if type(element1) != str and type(element2) != str :\n",
    "        return(element1 + element2)\n",
    "    else :\n",
    "        return(str(element1) + ' ' + str(element2))\n",
    "\n",
    "# myreduce() to iterate through each element of the collection and return sum of elements/concatenated string\n",
    "\n",
    "def myreduce(sum_concat,iterable,initialiser = 0) :\n",
    "    i = iter(iterable)\n",
    "    if initialiser == 0 :\n",
    "        value = next(i)\n",
    "    else :\n",
    "        value = initialiser\n",
    "    for j in i :\n",
    "        value = sum_concat(value,j)\n",
    "    return(value)\n",
    "        \n",
    "\n",
    "        \n",
    "        \n",
    "l = [1,2,3,4,5,6,7]\n",
    "t = (9,8,7,6,5)\n",
    "d = {\"Sreeraj\":100,\"Shreyas\":200,\"Ayansh\":300}\n",
    "\n",
    "# Calling myreduce () on various collections with different scenarios\n",
    "\n",
    "print(f'Cumulative sum of list: {myreduce(sum_concat, l)}')\n",
    "print(f'Cumulative sum of tuple: {myreduce(sum_concat, t)}')\n",
    "print(f'Concatanated string of dictionary keys: {myreduce(sum_concat, d)}')\n",
    "print(f'Cumulative sum of list and User Input Value: {myreduce(sum_concat, l,10)}')\n",
    "print(f'Cumulative sum of tuple and User Input Value: {myreduce(sum_concat, t,25)}')\n",
    "print(f'Cumulative sum of dictionary and User Input Value: {myreduce(sum_concat, d.values(),200)}')\n",
    "print(f'Concatanated string of dictionary keys and User Input Value: {myreduce(sum_concat, d.keys(),\"Parvathy\")}')\n",
    "print(f'Concatanated string of dictionary keys and values: {myreduce(sum_concat, d.items())}')"
   ]
  },
  {
   "cell_type": "code",
   "execution_count": 2,
   "id": "96b14e9c",
   "metadata": {},
   "outputs": [
    {
     "name": "stdout",
     "output_type": "stream",
     "text": [
      "[1, 3, 5, 7, 9]\n",
      "[3, 57, 23]\n",
      "[45, 25, 7]\n"
     ]
    }
   ],
   "source": [
    "# Function to return  True if element passed is Odd number\n",
    "\n",
    "def odd_number_finder(element) :\n",
    "    if element % 2 == 0 :\n",
    "        return(False)\n",
    "    else :\n",
    "        return(True)\n",
    "    \n",
    "\n",
    "#  myfilter() to return list iterator of odd numbers\n",
    "\n",
    "def myfilter(odd_number_finder,iterable) :\n",
    "    i = iter(iterable)\n",
    "    filtered = []\n",
    "    for j in i :\n",
    "        if odd_number_finder(j) :\n",
    "            filtered.append(j)\n",
    "    return (filtered)\n",
    "\n",
    "\n",
    "l = [1,2,3,4,5,6,7,8,9]\n",
    "t = (10,20,30,40,3,57,23,78)\n",
    "d ={\"Shreyas\" : 10,\"Ayansh\" : 20,\"Sreeraj\" : 30,\"Nishanth\" : 40,\"Vijay\" : 45,\"Vinod\" : 25,\"Narayanan\" : 80,\"Parvathy\" : 7}\n",
    "\n",
    "# Calling myfilter() on various collections to print odd numbers\n",
    "\n",
    "odd_number_list = []\n",
    "print(list(myfilter(odd_number_finder,l)))\n",
    "print(list(myfilter(odd_number_finder,t)))\n",
    "print(list(myfilter(odd_number_finder,d.values())))"
   ]
  },
  {
   "cell_type": "code",
   "execution_count": null,
   "id": "02d1ad0d",
   "metadata": {},
   "outputs": [],
   "source": []
  }
 ],
 "metadata": {
  "kernelspec": {
   "display_name": "Python 3",
   "language": "python",
   "name": "python3"
  },
  "language_info": {
   "codemirror_mode": {
    "name": "ipython",
    "version": 3
   },
   "file_extension": ".py",
   "mimetype": "text/x-python",
   "name": "python",
   "nbconvert_exporter": "python",
   "pygments_lexer": "ipython3",
   "version": "3.8.8"
  }
 },
 "nbformat": 4,
 "nbformat_minor": 5
}
