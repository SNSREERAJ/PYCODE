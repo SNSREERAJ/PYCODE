{
 "cells": [
  {
   "cell_type": "code",
   "execution_count": 1,
   "id": "38c21c60",
   "metadata": {},
   "outputs": [
    {
     "name": "stdout",
     "output_type": "stream",
     "text": [
      "Enter No of Rows: 5\n",
      "*  \n",
      "* *  \n",
      "* * *  \n",
      "* * * *  \n",
      "* * * * *  \n",
      "* * * *  \n",
      "* * *  \n",
      "* *  \n",
      "*  \n",
      " \n"
     ]
    }
   ],
   "source": [
    "# Take No of rows as input\n",
    "rows = int(input(\"Enter No of Rows: \"))\n",
    "\n",
    "# print upper half of the pattern \n",
    "for i in range(rows) :\n",
    "    for j in range(i+1) :\n",
    "        print(\"* \", end = \"\")\n",
    "    print(\" \")\n",
    "    \n",
    "# print lower half of the pattern \n",
    "for i in range(rows) :\n",
    "    for j in range(rows-(i+1)) :\n",
    "        print(\"* \", end =\"\")\n",
    "    print(\" \")"
   ]
  },
  {
   "cell_type": "code",
   "execution_count": null,
   "id": "dbd32452",
   "metadata": {},
   "outputs": [],
   "source": []
  }
 ],
 "metadata": {
  "kernelspec": {
   "display_name": "Python 3",
   "language": "python",
   "name": "python3"
  },
  "language_info": {
   "codemirror_mode": {
    "name": "ipython",
    "version": 3
   },
   "file_extension": ".py",
   "mimetype": "text/x-python",
   "name": "python",
   "nbconvert_exporter": "python",
   "pygments_lexer": "ipython3",
   "version": "3.8.8"
  }
 },
 "nbformat": 4,
 "nbformat_minor": 5
}
