{
 "cells": [
  {
   "cell_type": "code",
   "execution_count": 1,
   "id": "080e588a",
   "metadata": {},
   "outputs": [],
   "source": [
    "def update_list () :\n",
    "    l = []\n",
    "    for i in range(10) :\n",
    "        while True :\n",
    "            try :\n",
    "                value = int(input(\"Enter an integer greater than 4 :\"))\n",
    "                try :\n",
    "                    if value < 5 :\n",
    "                        raise Exception(\"Entered integer less than 5\") \n",
    "                        continue\n",
    "                    else :\n",
    "                        l.append(value)\n",
    "                        break\n",
    "                except Exception as e :\n",
    "                    print(e)\n",
    "            except Exception as e:\n",
    "                print(\"Entered value is not a valid integer\")\n",
    "                continue\n",
    "    print(l)\n",
    "        "
   ]
  },
  {
   "cell_type": "code",
   "execution_count": 2,
   "id": "f53da00b",
   "metadata": {},
   "outputs": [
    {
     "name": "stdout",
     "output_type": "stream",
     "text": [
      "Enter an integer greater than 4 :8\n",
      "Enter an integer greater than 4 :4\n",
      "Entered integer less than 5\n",
      "Enter an integer greater than 4 :3\n",
      "Entered integer less than 5\n",
      "Enter an integer greater than 4 :Sreeraj\n",
      "Entered value is not a valid integer\n",
      "Enter an integer greater than 4 :10\n",
      "Enter an integer greater than 4 :87\n",
      "Enter an integer greater than 4 :Shreyas\n",
      "Entered value is not a valid integer\n",
      "Enter an integer greater than 4 :79\n",
      "Enter an integer greater than 4 :98\n",
      "Enter an integer greater than 4 :45\n",
      "Enter an integer greater than 4 :19\n",
      "Enter an integer greater than 4 :73\n",
      "Enter an integer greater than 4 :87\n",
      "Enter an integer greater than 4 :35\n",
      "[8, 10, 87, 79, 98, 45, 19, 73, 87, 35]\n"
     ]
    }
   ],
   "source": [
    "update_list()"
   ]
  },
  {
   "cell_type": "code",
   "execution_count": null,
   "id": "4fc88bed",
   "metadata": {},
   "outputs": [],
   "source": []
  }
 ],
 "metadata": {
  "kernelspec": {
   "display_name": "Python 3",
   "language": "python",
   "name": "python3"
  },
  "language_info": {
   "codemirror_mode": {
    "name": "ipython",
    "version": 3
   },
   "file_extension": ".py",
   "mimetype": "text/x-python",
   "name": "python",
   "nbconvert_exporter": "python",
   "pygments_lexer": "ipython3",
   "version": "3.8.8"
  }
 },
 "nbformat": 4,
 "nbformat_minor": 5
}
