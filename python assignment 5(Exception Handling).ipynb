{
 "cells": [
  {
   "cell_type": "code",
   "execution_count": 9,
   "id": "d01ab4bc",
   "metadata": {},
   "outputs": [
    {
     "name": "stdout",
     "output_type": "stream",
     "text": [
      "enter a number: sree\n",
      "invalid literal for int() with base 10: 'sree'\n",
      "enter a number: 10\n",
      "division by zero\n"
     ]
    }
   ],
   "source": [
    "# Method 1: Define function and take input and handle exception in function itself\n",
    "\n",
    "def divisionbyzero() :\n",
    "    # While loop to loop over if user unintentionally enters string instead of a number\n",
    "    \n",
    "    while True :\n",
    "        try :\n",
    "            number = int(input(\"enter a number: \"))\n",
    "            result = number / 0\n",
    "        # to handle error when divides a number with 0\n",
    "        \n",
    "        except ZeroDivisionError as e :\n",
    "            print(e)\n",
    "            break\n",
    "            \n",
    "        # to handle error if user unintentionally enters string instead of a number\n",
    "\n",
    "        except Exception as e :\n",
    "            print(e)\n",
    "            continue\n",
    "                      \n",
    "        \n",
    "# Call function\n",
    "divisionbyzero()\n",
    "        "
   ]
  },
  {
   "cell_type": "code",
   "execution_count": 10,
   "id": "77abee90",
   "metadata": {},
   "outputs": [
    {
     "name": "stdout",
     "output_type": "stream",
     "text": [
      "enter a number: sree\n",
      "Not a valid integer\n",
      "enter a number: 10\n",
      "division by zero\n"
     ]
    }
   ],
   "source": [
    "# Method 2: Function takes one argument and only handles division by zero error\n",
    "\n",
    "def divisionbyzero(digit) :\n",
    "   \n",
    "        try :\n",
    "            result = digit / 0\n",
    "        except ZeroDivisionError as e :\n",
    "            print(e)\n",
    "                      \n",
    "        \n",
    "# User input is taken and if incorrect input handled in the main block itself\n",
    "\n",
    "while True :\n",
    "    try :\n",
    "        number = int(input(\"enter a number: \"))\n",
    "        break\n",
    "    except ValueError as e :\n",
    "        print(\"Not a valid integer\")\n",
    "        continue\n",
    "        \n",
    "# call Function and pass input value as argument\n",
    "\n",
    "divisionbyzero(number)\n",
    "        "
   ]
  },
  {
   "cell_type": "code",
   "execution_count": 11,
   "id": "6d5f3bed",
   "metadata": {},
   "outputs": [
    {
     "name": "stdout",
     "output_type": "stream",
     "text": [
      "Americans play Baseball\n",
      "Americans play Cricket\n",
      "Americans watch Baseball\n",
      "Americans watch Cricket\n",
      "Indians play Baseball\n",
      "Indians play Cricket\n",
      "Indians watch Baseball\n",
      "Indians watch Cricket\n"
     ]
    }
   ],
   "source": [
    "subjects = [\"Americans\",\"Indians\"]\n",
    "verbs = [\"play\",\"watch\"]\n",
    "objects = [\"Baseball\",\"Cricket\"]\n",
    "\n",
    "# Loop over subject,verb and objects in sequence to print the desired result\n",
    "\n",
    "for subject in subjects :\n",
    "    for verb in verbs :\n",
    "        for object in objects :\n",
    "            print(f'{subject} {verb} {object}')\n",
    "            "
   ]
  },
  {
   "cell_type": "code",
   "execution_count": null,
   "id": "0be4eb62",
   "metadata": {},
   "outputs": [],
   "source": []
  }
 ],
 "metadata": {
  "kernelspec": {
   "display_name": "Python 3",
   "language": "python",
   "name": "python3"
  },
  "language_info": {
   "codemirror_mode": {
    "name": "ipython",
    "version": 3
   },
   "file_extension": ".py",
   "mimetype": "text/x-python",
   "name": "python",
   "nbconvert_exporter": "python",
   "pygments_lexer": "ipython3",
   "version": "3.8.8"
  }
 },
 "nbformat": 4,
 "nbformat_minor": 5
}
