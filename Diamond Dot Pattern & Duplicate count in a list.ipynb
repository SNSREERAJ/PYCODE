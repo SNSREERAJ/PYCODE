{
 "cells": [
  {
   "cell_type": "code",
   "execution_count": 1,
   "id": "2f682fab",
   "metadata": {},
   "outputs": [
    {
     "name": "stdout",
     "output_type": "stream",
     "text": [
      "   .\n",
      "  . .\n",
      " . . .\n",
      "  . .\n",
      "   .\n"
     ]
    }
   ],
   "source": [
    "a = 3\n",
    "\n",
    "# printing upper half of the diamond pattern\n",
    "\n",
    "for i in range (a) :\n",
    "    print(\" \" * (a-(i+1)) + \" .\" * (i + 1))\n",
    "    \n",
    "# printing lower half of the diamond pattern\n",
    "    \n",
    "for i in range (a-1) :\n",
    "    print(\" \" * (i+1) + \" .\" * (a-(i+1)))"
   ]
  },
  {
   "cell_type": "code",
   "execution_count": 2,
   "id": "d340de36",
   "metadata": {},
   "outputs": [
    {
     "name": "stdout",
     "output_type": "stream",
     "text": [
      "The value 1 is repeating 2 times in the list  [1, 1, 2, 2, 3, 3]\n",
      "The value 2 is repeating 2 times in the list  [1, 1, 2, 2, 3, 3]\n",
      "The value 3 is repeating 2 times in the list  [1, 1, 2, 2, 3, 3]\n",
      "The value 2 is repeating 3 times in the list  [2, 4, 2, 2, 5]\n",
      "The value 8 is repeating 2 times in the list  [1, 5, 8, 8, 2]\n"
     ]
    }
   ],
   "source": [
    "l = [[1,1,2,2,3,3],[2,4,2,2,5],[1,5,8,8,2]]\n",
    "\n",
    "# Iterate through all the nested lists\n",
    "for i in l :\n",
    "    unique_list=[]\n",
    "    \n",
    "# Iterate through each nested list  n times where n=length of list, and re-initialise variables\n",
    "\n",
    "    for j in i :\n",
    "        duplicate_count = 0\n",
    "        potential_duplicate_value = j\n",
    "        \n",
    "# Iterate through any each nested list, one element at a time and check with other elements for duplicate\n",
    "\n",
    "        for k in i :\n",
    "            if potential_duplicate_value not in unique_list :\n",
    "                if k == potential_duplicate_value :\n",
    "                    duplicate_count +=1\n",
    "            else :\n",
    "                break\n",
    "        if duplicate_count > 1  :\n",
    "            unique_list.append(potential_duplicate_value)\n",
    "            print (\"The value \" + str(potential_duplicate_value) + \" is repeating \" + str(duplicate_count) + \" times in the list  \",end=\"\")\n",
    "            print(i,end=\"\\n\")\n",
    "      \n",
    "    "
   ]
  },
  {
   "cell_type": "code",
   "execution_count": null,
   "id": "d7b2ba0d",
   "metadata": {},
   "outputs": [],
   "source": []
  }
 ],
 "metadata": {
  "kernelspec": {
   "display_name": "Python 3",
   "language": "python",
   "name": "python3"
  },
  "language_info": {
   "codemirror_mode": {
    "name": "ipython",
    "version": 3
   },
   "file_extension": ".py",
   "mimetype": "text/x-python",
   "name": "python",
   "nbconvert_exporter": "python",
   "pygments_lexer": "ipython3",
   "version": "3.8.8"
  }
 },
 "nbformat": 4,
 "nbformat_minor": 5
}
