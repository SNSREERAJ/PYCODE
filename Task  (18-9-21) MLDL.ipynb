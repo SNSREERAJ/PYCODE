{
 "cells": [
  {
   "cell_type": "code",
   "execution_count": 1,
   "id": "a325b0f1",
   "metadata": {},
   "outputs": [
    {
     "name": "stdout",
     "output_type": "stream",
     "text": [
      "[3, 7, 11, 15, 19, 23, 27, 31, 35, 39]\n"
     ]
    }
   ],
   "source": [
    "even_list = [2,4,6,8,10,12,14,16,18,20]\n",
    "odd_list = [1,3,5,7,9,11,13,15,17,19]\n",
    "\n",
    "# list for storing element wise summation result\n",
    "summation_list = []\n",
    "\n",
    "# Iterate through each element of both list parallely by extracting index  by using len() followed by range() \n",
    "for i in range(len(even_list)):\n",
    "    summation_list.append( even_list[i] + odd_list[i])\n",
    "print(summation_list)"
   ]
  },
  {
   "cell_type": "code",
   "execution_count": 29,
   "id": "f374f6e8",
   "metadata": {},
   "outputs": [
    {
     "name": "stdout",
     "output_type": "stream",
     "text": [
      "['A', 'B', 'C', 'D', 'E', 'F', 'G', 'H', 'I', 'J', 'K', 'L', 'M', 'N', 'O', 'P', 'Q', 'R', 'S', 'T', 'U', 'V', 'W', 'X', 'Y', 'Z']\n",
      "['a', 'b', 'c', 'd', 'e', 'f', 'g', 'h', 'i', 'j', 'k', 'l', 'm', 'n', 'o', 'p', 'q', 'r', 's', 't', 'u', 'v', 'w', 'x', 'y', 'z']\n"
     ]
    }
   ],
   "source": [
    "alphabets_list = ['a','B','c','D','e','F','g','H','i','J','k','l','M','N','o','P','Q','r','s','t','U','v','W','x','y','Z']\n",
    "upper_case = []\n",
    "lower_case = []\n",
    "\n",
    "#Using list comprehension for generating Upper case & Lower case alphabets using append () and upper() & lower () methods\n",
    "[upper_case.append(alphabets_list[i].upper()) for i in range(len(alphabets_list))]\n",
    "print(upper_case)\n",
    "\n",
    "[lower_case.append(alphabets_list[i].lower()) for i in range(len(alphabets_list))]\n",
    "print(lower_case)"
   ]
  },
  {
   "cell_type": "code",
   "execution_count": 2,
   "id": "d9df5b78",
   "metadata": {},
   "outputs": [
    {
     "name": "stdout",
     "output_type": "stream",
     "text": [
      "Enter a string: malayalam\n",
      "It's a Palindrome\n"
     ]
    }
   ],
   "source": [
    "string = input(\"Enter a string: \")\n",
    "no_space_string =string.replace(' ','')\n",
    "\n",
    "length = int(len(no_space_string))\n",
    "half = int(length / 2)\n",
    "\n",
    "pali = False\n",
    "i = 0\n",
    "\n",
    "# Compare each character of string. i.e first  with last, second with second last and so on till middle of string\n",
    "while i < half :\n",
    "    if no_space_string[i] == no_space_string[length-(i+1)] :\n",
    "        pali = True\n",
    "    else :\n",
    "        break\n",
    "    i += 1\n",
    "\n",
    "if pali == True :\n",
    "    print(\"It's a Palindrome\")\n",
    "else :\n",
    "    print(\"It's not a Palindrome\")"
   ]
  },
  {
   "cell_type": "code",
   "execution_count": 7,
   "id": "1d4d4551",
   "metadata": {},
   "outputs": [
    {
     "name": "stdout",
     "output_type": "stream",
     "text": [
      "Enter your string: sree\n"
     ]
    },
    {
     "ename": "AttributeError",
     "evalue": "'list' object has no attribute 'replace'",
     "output_type": "error",
     "traceback": [
      "\u001b[1;31m---------------------------------------------------------------------------\u001b[0m",
      "\u001b[1;31mAttributeError\u001b[0m                            Traceback (most recent call last)",
      "\u001b[1;32m<ipython-input-7-eea14b62008d>\u001b[0m in \u001b[0;36m<module>\u001b[1;34m\u001b[0m\n\u001b[0;32m      6\u001b[0m     \u001b[1;32mfor\u001b[0m \u001b[0mj\u001b[0m \u001b[1;32min\u001b[0m \u001b[0mlength\u001b[0m \u001b[1;33m:\u001b[0m\u001b[1;33m\u001b[0m\u001b[1;33m\u001b[0m\u001b[0m\n\u001b[0;32m      7\u001b[0m         \u001b[1;32mif\u001b[0m \u001b[0mstring\u001b[0m\u001b[1;33m[\u001b[0m\u001b[0mj\u001b[0m\u001b[1;33m]\u001b[0m \u001b[1;33m<\u001b[0m \u001b[0msorted_string\u001b[0m\u001b[1;33m[\u001b[0m\u001b[0mi\u001b[0m\u001b[1;33m]\u001b[0m \u001b[1;33m:\u001b[0m\u001b[1;33m\u001b[0m\u001b[1;33m\u001b[0m\u001b[0m\n\u001b[1;32m----> 8\u001b[1;33m             \u001b[0msorted_string\u001b[0m\u001b[1;33m.\u001b[0m\u001b[0mreplace\u001b[0m\u001b[1;33m(\u001b[0m\u001b[0msorted_string\u001b[0m\u001b[1;33m[\u001b[0m\u001b[0mi\u001b[0m\u001b[1;33m]\u001b[0m\u001b[1;33m,\u001b[0m\u001b[0mstring\u001b[0m\u001b[1;33m[\u001b[0m\u001b[0mj\u001b[0m\u001b[1;33m]\u001b[0m\u001b[1;33m)\u001b[0m\u001b[1;33m\u001b[0m\u001b[1;33m\u001b[0m\u001b[0m\n\u001b[0m\u001b[0;32m      9\u001b[0m \u001b[0mprint\u001b[0m\u001b[1;33m(\u001b[0m\u001b[0msorted_string\u001b[0m\u001b[1;33m)\u001b[0m\u001b[1;33m\u001b[0m\u001b[1;33m\u001b[0m\u001b[0m\n",
      "\u001b[1;31mAttributeError\u001b[0m: 'list' object has no attribute 'replace'"
     ]
    }
   ],
   "source": [
    "string = input(\"Enter your string: \")\n",
    "sorted_string =[]\n",
    "sorted_string.append(string [0])\n",
    "length = range(len(string))\n",
    "for i in length :\n",
    "    for j in length :\n",
    "        if string[j] < sorted_string[i] :\n",
    "            sorted_string.replace(sorted_string[i],string[j])\n",
    "print(sorted_string)"
   ]
  },
  {
   "cell_type": "code",
   "execution_count": null,
   "id": "0147c272",
   "metadata": {},
   "outputs": [],
   "source": []
  }
 ],
 "metadata": {
  "kernelspec": {
   "display_name": "Python 3",
   "language": "python",
   "name": "python3"
  },
  "language_info": {
   "codemirror_mode": {
    "name": "ipython",
    "version": 3
   },
   "file_extension": ".py",
   "mimetype": "text/x-python",
   "name": "python",
   "nbconvert_exporter": "python",
   "pygments_lexer": "ipython3",
   "version": "3.8.8"
  }
 },
 "nbformat": 4,
 "nbformat_minor": 5
}
