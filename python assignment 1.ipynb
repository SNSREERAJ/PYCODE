{
 "cells": [
  {
   "cell_type": "code",
   "execution_count": 5,
   "id": "d66a5eae",
   "metadata": {},
   "outputs": [
    {
     "name": "stdout",
     "output_type": "stream",
     "text": [
      "2002,2009,2016,2023,2037,2044,2051,2058,2072,2079,2086,2093,2107,2114,2121,2128,2142,2149,2156,2163,2177,2184,2191,2198,2212,2219,2226,2233,2247,2254,2261,2268,2282,2289,2296,2303,2317,2324,2331,2338,2352,2359,2366,2373,2387,2394,2401,2408,2422,2429,2436,2443,2457,2464,2471,2478,2492,2499,2506,2513,2527,2534,2541,2548,2562,2569,2576,2583,2597,2604,2611,2618,2632,2639,2646,2653,2667,2674,2681,2688,2702,2709,2716,2723,2737,2744,2751,2758,2772,2779,2786,2793,2807,2814,2821,2828,2842,2849,2856,2863,2877,2884,2891,2898,2912,2919,2926,2933,2947,2954,2961,2968,2982,2989,2996,3003,3017,3024,3031,3038,3052,3059,3066,3073,3087,3094,3101,3108,3122,3129,3136,3143,3157,3164,3171,3178,3192,3199,"
     ]
    }
   ],
   "source": [
    "base = 2000\n",
    "ceil = 3200\n",
    "\n",
    "#  find first occurrence of number divisible by 7 but not divisible by 5 and store it in variable base_value\n",
    "\n",
    "while True :\n",
    "    if base % 5 != 0 and base % 7 == 0 :\n",
    "        base_value = base\n",
    "        break\n",
    "    else :\n",
    "        base += 1\n",
    "\n",
    "# print comma separated number divisble by 7 and not divisible by 5 \n",
    "\n",
    "for i in range(base_value,ceil,7) :\n",
    "    if (i % 5) != 0 :\n",
    "        print(i,end=\",\")\n",
    "        \n",
    "\n",
    "        \n",
    "   "
   ]
  },
  {
   "cell_type": "code",
   "execution_count": 7,
   "id": "9338ee02",
   "metadata": {},
   "outputs": [
    {
     "name": "stdout",
     "output_type": "stream",
     "text": [
      "Enter Your First Name: sreeraj\n",
      "Enter Your Last Name: Nisha\n",
      "jareers ahsiN\n"
     ]
    }
   ],
   "source": [
    "first_name = input(\"Enter Your First Name: \")\n",
    "last_name = input(\"Enter Your Last Name: \")\n",
    "\n",
    "# Reverse first name & last name using string slicing operation\n",
    "\n",
    "print(first_name[::-1] + \" \" + last_name[::-1])  \n",
    " "
   ]
  },
  {
   "cell_type": "code",
   "execution_count": 13,
   "id": "ea60dbcf",
   "metadata": {},
   "outputs": [
    {
     "name": "stdout",
     "output_type": "stream",
     "text": [
      "Volume of a sphere with diameter 12cm is 7234.5599999999995 cubic centimeters\n"
     ]
    }
   ],
   "source": [
    "diameter = 12\n",
    "\n",
    "volume = 4/3 * 3.14 * diameter ** 3\n",
    "print(\"Volume of a sphere with diameter 12cm is \" + str(volume) + \" cubic centimeters\")"
   ]
  },
  {
   "cell_type": "code",
   "execution_count": null,
   "id": "5d5d877f",
   "metadata": {},
   "outputs": [],
   "source": [
    "\n"
   ]
  },
  {
   "cell_type": "code",
   "execution_count": null,
   "id": "9b66f5f6",
   "metadata": {},
   "outputs": [],
   "source": []
  },
  {
   "cell_type": "code",
   "execution_count": null,
   "id": "39571833",
   "metadata": {},
   "outputs": [],
   "source": []
  },
  {
   "cell_type": "code",
   "execution_count": null,
   "id": "e9e4f3c1",
   "metadata": {},
   "outputs": [],
   "source": []
  }
 ],
 "metadata": {
  "kernelspec": {
   "display_name": "Python 3",
   "language": "python",
   "name": "python3"
  },
  "language_info": {
   "codemirror_mode": {
    "name": "ipython",
    "version": 3
   },
   "file_extension": ".py",
   "mimetype": "text/x-python",
   "name": "python",
   "nbconvert_exporter": "python",
   "pygments_lexer": "ipython3",
   "version": "3.8.8"
  }
 },
 "nbformat": 4,
 "nbformat_minor": 5
}
